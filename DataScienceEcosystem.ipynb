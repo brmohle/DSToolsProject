{
 "cells": [
  {
   "cell_type": "markdown",
   "id": "a7be58ff-6389-440d-a2f7-d613d26bb91b",
   "metadata": {},
   "source": [
    "# Data Science Tools and Ecosystem"
   ]
  },
  {
   "cell_type": "markdown",
   "id": "abe4a05d-9011-4b6a-bfbb-b7b8a0836c2f",
   "metadata": {},
   "source": [
    "In this notebook, Data Science Tools and Ecosystem are summarized."
   ]
  },
  {
   "cell_type": "markdown",
   "id": "d8f0371d-6e01-4fb9-a0b5-34be2d035128",
   "metadata": {},
   "source": [
    "**Objectives:**\n",
    "- List popular languages used by data scientists\n",
    "- List commonly used data scientist libraries\n",
    "- List data science tools\n",
    "- Provide examples of Jupyter code cells"
   ]
  },
  {
   "cell_type": "markdown",
   "id": "19d3f5e4-2e6a-4a78-92f9-61aa37987113",
   "metadata": {
    "tags": []
   },
   "source": [
    "Some of the popular languages that Data Scientists use are:\n",
    "1. Python\n",
    "1. Structured Query Language (SQL)\n",
    "1. R\n",
    "1. Scala"
   ]
  },
  {
   "cell_type": "markdown",
   "id": "6ed1ad14-5e7d-4565-ac94-a9be52fee0e5",
   "metadata": {},
   "source": [
    "Some of the commonly used libraries used by Data Scientists include:\n",
    "1. Pandas\n",
    "1. NumPy\n",
    "1. MatPlotLib\n",
    "1. SciKit-Learn\n",
    "1. ggplot2"
   ]
  },
  {
   "cell_type": "markdown",
   "id": "32cf2a82-4c9c-4d18-ad77-9f7c1cf879da",
   "metadata": {},
   "source": [
    "| Data Science Tools |\n",
    "---------------------\n",
    "| Jupyter Labs/ Notebooks |\n",
    "| R Studio |\n",
    "| Spyder |\n",
    "| Anaconda |"
   ]
  },
  {
   "cell_type": "markdown",
   "id": "4762dcf5-732c-486c-906d-77ddd6a27f68",
   "metadata": {},
   "source": [
    "### Below are a few examples of evaluating arithmetic expressions in Python"
   ]
  },
  {
   "cell_type": "code",
   "execution_count": 1,
   "id": "3a07da24-3136-4dda-94da-814a5e2afe81",
   "metadata": {
    "tags": []
   },
   "outputs": [
    {
     "data": {
      "text/plain": [
       "17"
      ]
     },
     "execution_count": 1,
     "metadata": {},
     "output_type": "execute_result"
    }
   ],
   "source": [
    "(3*4)+5\n",
    "# This a simple arithmetic expression to multiply then add integers"
   ]
  },
  {
   "cell_type": "code",
   "execution_count": 2,
   "id": "f738adb3-d375-495d-b023-f30c22b9b3a2",
   "metadata": {
    "tags": []
   },
   "outputs": [
    {
     "data": {
      "text/plain": [
       "3.3333333333333335"
      ]
     },
     "execution_count": 2,
     "metadata": {},
     "output_type": "execute_result"
    }
   ],
   "source": [
    "200/60\n",
    "#This will convert 200 minutes to hours by diving by 60."
   ]
  },
  {
   "cell_type": "markdown",
   "id": "123b48ac-e04e-439a-b57c-552cc6149066",
   "metadata": {},
   "source": [
    "## Author ##\n",
    "Brad Mohler"
   ]
  },
  {
   "cell_type": "code",
   "execution_count": null,
   "id": "c9472a9c-179a-4750-af01-890e4c75d6b6",
   "metadata": {},
   "outputs": [],
   "source": []
  }
 ],
 "metadata": {
  "kernelspec": {
   "display_name": "Python",
   "language": "python",
   "name": "conda-env-python-py"
  },
  "language_info": {
   "codemirror_mode": {
    "name": "ipython",
    "version": 3
   },
   "file_extension": ".py",
   "mimetype": "text/x-python",
   "name": "python",
   "nbconvert_exporter": "python",
   "pygments_lexer": "ipython3",
   "version": "3.7.12"
  }
 },
 "nbformat": 4,
 "nbformat_minor": 5
}
